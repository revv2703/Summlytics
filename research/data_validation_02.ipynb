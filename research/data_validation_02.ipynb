{
 "cells": [
  {
   "cell_type": "code",
   "execution_count": 2,
   "metadata": {},
   "outputs": [
    {
     "data": {
      "text/plain": [
       "'c:\\\\Codes\\\\Codes\\\\Python\\\\Summlytics'"
      ]
     },
     "execution_count": 2,
     "metadata": {},
     "output_type": "execute_result"
    }
   ],
   "source": [
    "import os\n",
    "os.chdir(\"../\")\n",
    "%pwd"
   ]
  },
  {
   "cell_type": "code",
   "execution_count": 3,
   "metadata": {},
   "outputs": [],
   "source": [
    "from dataclasses import dataclass\n",
    "from pathlib import Path\n",
    "\n",
    "@dataclass(frozen=True)\n",
    "class DataValidationConfig:\n",
    "    root_dir: Path\n",
    "    FILE_STATUS: str\n",
    "    ALL_REQUIRED_FILES: list"
   ]
  },
  {
   "cell_type": "code",
   "execution_count": 31,
   "metadata": {},
   "outputs": [],
   "source": [
    "from Summlytics.constants import *\n",
    "from Summlytics.utils.common import read_yaml, create_directories"
   ]
  },
  {
   "cell_type": "code",
   "execution_count": 32,
   "metadata": {},
   "outputs": [],
   "source": [
    "class ConfigurationManager:\n",
    "    def __init__(self, config_filepath = CONFIG_FILE_PATH, params_filepath = PARAMS_FILE_PATH):\n",
    "        self.config = read_yaml(config_filepath)\n",
    "        self.params = read_yaml(params_filepath)\n",
    "\n",
    "        create_directories([self.config.artifacts_root])\n",
    "\n",
    "    def get_data_validation_config(self) -> DataValidationConfig:\n",
    "\n",
    "        config = self.config.data_validation\n",
    "\n",
    "        create_directories([config.root_dir])\n",
    "        \n",
    "        return DataValidationConfig(\n",
    "            root_dir = config.root_dir,\n",
    "            FILE_STATUS = config.FILE_STATUS,\n",
    "            ALL_REQUIRED_FILES = config.ALL_REQUIRED_FILES\n",
    "        )"
   ]
  },
  {
   "cell_type": "code",
   "execution_count": 38,
   "metadata": {},
   "outputs": [],
   "source": [
    "from Summlytics.logging import logger\n",
    "import json"
   ]
  },
  {
   "cell_type": "code",
   "execution_count": 39,
   "metadata": {},
   "outputs": [],
   "source": [
    "class DataValidation:\n",
    "    def __init__(self, config: DataValidationConfig):\n",
    "        self.config = config\n",
    "\n",
    "    # def validate_all_files(self):\n",
    "    #     \"\"\"Validate all files in the data directory\"\"\"\n",
    "    #     # return all([validate_file() for validate_file in [self.validate_file(file) for file in self.config.ALL_REQUIRED_FILES]])\n",
    "    #     return all(self.validate_file(file) for file in self.config.ALL_REQUIRED_FILES)\n",
    "    \n",
    "    # def validate_file(self, file: str) -> bool:\n",
    "    #     \"\"\"Validate a file in the data directory\"\"\"\n",
    "    #     file_path = Path(self.config.root_dir + \"/\" + file)\n",
    "    #     if not file_path.exists():\n",
    "    #         logger.error(f\"Missing file: {file_path}\")\n",
    "    #         return False\n",
    "    #     logger.info(f\"File {file_path} exists\")\n",
    "    #     return True\n",
    "        \n",
    "    # def validate_all_files(self):\n",
    "    #     \"\"\"Validate all files in the data directory\"\"\"\n",
    "    #     try:\n",
    "    #         validation_status = None\n",
    "\n",
    "    #         file_loc = os.listdir(os.path.join(\"artifacts\", \"data_ingestion\", \"samsum_dataset\"))\n",
    "\n",
    "    #         for file in file_loc:\n",
    "    #             if file not in self.config.ALL_REQUIRED_FILES:\n",
    "    #                 validation_status = False\n",
    "    #                 with open(self.config.FILE_STATUS, \"w\") as f:\n",
    "    #                     f.write(f\"Validation status: {validation_status}\")\n",
    "    #             else:\n",
    "    #                 validation_status = True\n",
    "    #                 with open(self.config.FILE_STATUS, \"w\") as f:\n",
    "    #                     f.write(f\"Validation status: {validation_status}\")\n",
    "\n",
    "    #         return validation_status\n",
    "        \n",
    "    #     except Exception as e:\n",
    "    #         logger.error(f\"Validation failed: {e}\")\n",
    "    #         return False\n",
    "    \n",
    "    def validate_all_files(self) -> bool:\n",
    "        try:\n",
    "            all_valid = all(file in self.config.ALL_REQUIRED_FILES for file in os.listdir(os.path.join(\"artifacts\", \"data_ingestion\", \"samsum_dataset\")))\n",
    "            with open(self.config.FILE_STATUS, \"w\") as f:\n",
    "                json.dump({\"validation_status\": all_valid}, f)\n",
    "            return all_valid\n",
    "        except Exception as e:\n",
    "            logger.error(f\"Validation failed: {e}\")\n",
    "            return False"
   ]
  },
  {
   "cell_type": "code",
   "execution_count": 41,
   "metadata": {},
   "outputs": [
    {
     "name": "stdout",
     "output_type": "stream",
     "text": [
      "[2024-02-07 19:23:47,724: INFO: 547802505: Data Validation started]\n",
      "[2024-02-07 19:23:47,725: INFO: common: yaml file: <_io.TextIOWrapper name='config\\\\config.yaml' mode='r' encoding='cp1252'> loaded successfully.]\n",
      "[2024-02-07 19:23:47,726: INFO: common: yaml file: <_io.TextIOWrapper name='params.yaml' mode='r' encoding='cp1252'> loaded successfully.]\n",
      "[2024-02-07 19:23:47,727: INFO: common: Directory: artifacts already exists.]\n",
      "[2024-02-07 19:23:47,728: INFO: common: Directory: artifacts/data_validation created.]\n",
      "False\n",
      "[2024-02-07 19:23:47,729: INFO: 547802505: Data Validation completed]\n"
     ]
    }
   ],
   "source": [
    "try:\n",
    "    logger.info(\"Data Validation started\")\n",
    "\n",
    "    config = ConfigurationManager()\n",
    "    data_validation_config = config.get_data_validation_config()\n",
    "    data_validation = DataValidation(data_validation_config)\n",
    "    data_validation.validate_all_files()\n",
    "\n",
    "    logger.info(\"Data Validation completed\")\n",
    "except Exception as e:\n",
    "    logger.error(e)\n",
    "    raise e"
   ]
  },
  {
   "cell_type": "code",
   "execution_count": null,
   "metadata": {},
   "outputs": [],
   "source": []
  }
 ],
 "metadata": {
  "kernelspec": {
   "display_name": ".venv",
   "language": "python",
   "name": "python3"
  },
  "language_info": {
   "codemirror_mode": {
    "name": "ipython",
    "version": 3
   },
   "file_extension": ".py",
   "mimetype": "text/x-python",
   "name": "python",
   "nbconvert_exporter": "python",
   "pygments_lexer": "ipython3",
   "version": "3.11.5"
  }
 },
 "nbformat": 4,
 "nbformat_minor": 2
}
